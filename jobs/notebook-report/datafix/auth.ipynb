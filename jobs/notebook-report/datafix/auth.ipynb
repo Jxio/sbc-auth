{
 "cells": [
  {
   "cell_type": "markdown",
   "metadata": {
    "collapsed": false
   },
   "source": [
    "# Add Flag and Emails New EFT Accounts"
   ]
  },
  {
   "cell_type": "code",
   "execution_count": null,
   "metadata": {
    "collapsed": false,
    "pycharm": {
     "is_executing": false,
     "name": "#%%\n"
    }
   },
   "outputs": [],
   "source": [
    "import os\n",
    "import time\n",
    "\n",
    "%load_ext sql\n",
    "%config SqlMagic.displaylimit = 5\n"
   ]
  },
  {
   "cell_type": "markdown",
   "metadata": {
    "collapsed": false
   },
   "source": [
    "This will create the connection to the database and prep the jupyter magic for SQL"
   ]
  },
  {
   "cell_type": "code",
   "execution_count": null,
   "metadata": {
    "collapsed": false,
    "pycharm": {
     "is_executing": false,
     "name": "#%%\n"
    }
   },
   "outputs": [],
   "source": [
    "connect_to_db = 'postgresql://' + \\\n",
    "                os.getenv('PG_USER', '') + \":\" + os.getenv('PG_PASSWORD', '') +'@' + \\\n",
    "                os.getenv('PG_HOST', '') + ':' + os.getenv('PG_PORT', '5432') + '/' + os.getenv('PG_DB_NAME', '');\n",
    "    \n",
    "%sql $connect_to_db\n"
   ]
  },
  {
   "cell_type": "code",
   "execution_count": null,
   "metadata": {
    "collapsed": false,
    "pycharm": {
     "is_executing": false,
     "name": "#%%\n"
    }
   },
   "outputs": [],
   "source": [
    "%%sql stat_accounts_id  <<\n",
    "SELECT pa.auth_account_id \n",
    "FROM payment_accounts pa\n",
    "RIGHT JOIN invoices i ON i.payment_account_id = pa.id\n",
    "WHERE i.payment_method_code IN ('EFT', 'DIRECT_PAY')\n",
    "LIMIT 20;  # Limiting to 20 for the pilot run\n"
   ]
  },
  {
   "cell_type": "code",
   "execution_count": null,
   "metadata": {},
   "outputs": [],
   "source": [
    "import requests\n",
    "import base64\n",
    "\n",
    "# Function to get environment or global variables (similar to Postman's pm.variables.get)\n",
    "def get_var(variable_name, default=''):\n",
    "    return os.getenv(variable_name, default)\n",
    "\n",
    "headers = {\n",
    "    'content-type': 'application/x-www-form-urlencoded',\n",
    "    'Authorization': 'Basic ' + base64.b64encode(\n",
    "        bytes(get_var('KEYCLOAK_SERVICE_ACCOUNT_ID') + ':' + get_var('KEYCLOAK_SERVICE_ACCOUNT_SECRET'),\n",
    "        'utf-8')).decode('utf-8')\n",
    "}\n",
    "body = {\n",
    "    'grant_type': 'client_credentials'\n",
    "}\n",
    "issuer_url = get_var('JWT_OIDC_ISSUER')\n",
    "token_url =  issuer_url + '/protocol/openid-connect/token'\n",
    "print(issuer_url)\n",
    "\n",
    "# Send the request\n",
    "response = requests.post(token_url, headers=headers, data=body)\n",
    "\n",
    "# Check if the request was successful\n",
    "if response.status_code == 200:\n",
    "    json_response = response.json()\n",
    "    new_access_token = json_response.get('access_token', '')\n",
    "\n",
    "    # Set the new token to environment (or wherever you want to store it)\n",
    "    os.environ['accessToken'] = new_access_token\n",
    "\n",
    "    print(f\"Successfully obtained access token: {new_access_token}\")\n",
    "else:\n",
    "    print(f\"Failed to obtain access token. Status code: {response.status_code}, Response: {response.text}\")\n"
   ]
  },
  {
   "cell_type": "code",
   "execution_count": null,
   "metadata": {},
   "outputs": [],
   "source": [
    "API_BASE_URL = os.getenv('PAY_API_URL', '')\n",
    "\n",
    "headers = {\n",
    "    \"Authorization\": f\"Bearer {os.environ['accessToken']}\",\n",
    "    \"Content-Type\": \"application/json\"\n",
    "}\n",
    "\n",
    "successful = []\n",
    "failed = []\n",
    "# Loop through each auth_account_id and send a PATCH request\n",
    "for auth_id in stat_accounts_id:\n",
    "    url = f\"{API_BASE_URL}/api/v1/accounts/{auth_id}/eft\"\n",
    "    response = requests.patch(url, headers=headers)\n",
    "    \n",
    "    # Check if the request was successful\n",
    "    if response.status_code == 200:\n",
    "        successful.push(auth_id)\n",
    "    else:\n",
    "        failed.push(auth_id)\n",
    "        # Introduce a delay of 5 seconds between requests\n",
    "    time.sleep(5)\n"
   ]
  }
 ],
 "metadata": {
  "celltoolbar": "Tags",
  "kernelspec": {
   "display_name": "Python 3",
   "language": "python",
   "name": "python3"
  },
  "language_info": {
   "codemirror_mode": {
    "name": "ipython",
    "version": 3
   },
   "file_extension": ".py",
   "mimetype": "text/x-python",
   "name": "python",
   "nbconvert_exporter": "python",
   "pygments_lexer": "ipython3",
   "version": "3.8.5"
  },
  "pycharm": {
   "stem_cell": {
    "cell_type": "raw",
    "metadata": {
     "collapsed": false
    },
    "source": []
   }
  }
 },
 "nbformat": 4,
 "nbformat_minor": 2
}
